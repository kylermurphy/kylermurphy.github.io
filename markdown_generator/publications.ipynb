{
 "cells": [
  {
   "cell_type": "markdown",
   "metadata": {},
   "source": [
    "# Publications markdown generator for academicpages\n",
    "\n",
    "Takes a TSV of publications with metadata and converts them for use with [academicpages.github.io](academicpages.github.io). This is an interactive Jupyter notebook ([see more info here](http://jupyter-notebook-beginner-guide.readthedocs.io/en/latest/what_is_jupyter.html)). The core python code is also in `publications.py`. Run either from the `markdown_generator` folder after replacing `publications.tsv` with one containing your data.\n",
    "\n",
    "TODO: Make this work with BibTex and other databases of citations, rather than Stuart's non-standard TSV format and citation style.\n"
   ]
  },
  {
   "cell_type": "markdown",
   "metadata": {},
   "source": [
    "## Data format\n",
    "\n",
    "The TSV needs to have the following columns: pub_date, title, venue, excerpt, citation, site_url, and paper_url, with a header at the top. \n",
    "\n",
    "- `excerpt` and `paper_url` can be blank, but the others must have values. \n",
    "- `pub_date` must be formatted as YYYY-MM-DD.\n",
    "- `url_slug` will be the descriptive part of the .md file and the permalink URL for the page about the paper. The .md file will be `YYYY-MM-DD-[url_slug].md` and the permalink will be `https://[yourdomain]/publications/YYYY-MM-DD-[url_slug]`\n",
    "\n",
    "This is how the raw file looks (it doesn't look pretty, use a spreadsheet or other program to edit and create)."
   ]
  },
  {
   "cell_type": "markdown",
   "metadata": {},
   "source": [
    "## Import pandas\n",
    "\n",
    "We are using the very handy pandas library for dataframes."
   ]
  },
  {
   "cell_type": "code",
   "execution_count": 1,
   "metadata": {},
   "outputs": [],
   "source": [
    "import pandas as pd\n",
    "import os"
   ]
  },
  {
   "cell_type": "markdown",
   "metadata": {},
   "source": [
    "## Import TSV\n",
    "\n",
    "Pandas makes this easy with the read_csv function. We are using a TSV, so we specify the separator as a tab, or `\\t`.\n",
    "\n",
    "I found it important to put this data in a tab-separated values format, because there are a lot of commas in this kind of data and comma-separated values can get messed up. However, you can modify the import statement, as pandas also has read_excel(), read_json(), and others."
   ]
  },
  {
   "cell_type": "code",
   "execution_count": 2,
   "metadata": {},
   "outputs": [
    {
     "data": {
      "text/html": [
       "<div>\n",
       "<style scoped>\n",
       "    .dataframe tbody tr th:only-of-type {\n",
       "        vertical-align: middle;\n",
       "    }\n",
       "\n",
       "    .dataframe tbody tr th {\n",
       "        vertical-align: top;\n",
       "    }\n",
       "\n",
       "    .dataframe thead th {\n",
       "        text-align: right;\n",
       "    }\n",
       "</style>\n",
       "<table border=\"1\" class=\"dataframe\">\n",
       "  <thead>\n",
       "    <tr style=\"text-align: right;\">\n",
       "      <th></th>\n",
       "      <th>pub_date</th>\n",
       "      <th>title</th>\n",
       "      <th>venue</th>\n",
       "      <th>excerpt</th>\n",
       "      <th>citation</th>\n",
       "      <th>url_slug</th>\n",
       "      <th>paper_url</th>\n",
       "    </tr>\n",
       "  </thead>\n",
       "  <tbody>\n",
       "    <tr>\n",
       "      <th>0</th>\n",
       "      <td>2009-07-01 00:00:00</td>\n",
       "      <td>Ground-based Pc5 ULF wave power: Solar wind sp...</td>\n",
       "      <td>Journal of Atmospheric and Solar-Terrestrial P...</td>\n",
       "      <td>NaN</td>\n",
       "      <td>Pahud, D. M., Rae, I. J., Mann, I. R., Murphy,...</td>\n",
       "      <td>Pahud</td>\n",
       "      <td>https://doi.org/10.1016/j.jastp.2008.12.004</td>\n",
       "    </tr>\n",
       "    <tr>\n",
       "      <th>1</th>\n",
       "      <td>2008-12-01 00:00:00</td>\n",
       "      <td>The Upgraded CARISMA Magnetometer Array in the...</td>\n",
       "      <td>Space Science Reviews</td>\n",
       "      <td>NaN</td>\n",
       "      <td>Mann, I. R., Milling, D. K., Rae, I. J., Ozeke...</td>\n",
       "      <td>Mann</td>\n",
       "      <td>https://doi.org/10.1007/s11214-008-9457-6</td>\n",
       "    </tr>\n",
       "    <tr>\n",
       "      <th>2</th>\n",
       "      <td>2008-07-01 00:00:00</td>\n",
       "      <td>Ionospheric localisation and expansion of long...</td>\n",
       "      <td>Geophysical Research Letters</td>\n",
       "      <td>NaN</td>\n",
       "      <td>Milling, D. K., Rae, I. J., Mann, I. R., Murph...</td>\n",
       "      <td>Milling</td>\n",
       "      <td>https://doi.org/10.1029/2008GL033672</td>\n",
       "    </tr>\n",
       "    <tr>\n",
       "      <th>3</th>\n",
       "      <td>2009-12-01 00:00:00</td>\n",
       "      <td>Timing and localization of near-Earth tail and...</td>\n",
       "      <td>Journal of Geophysical Research: Space Physics</td>\n",
       "      <td>NaN</td>\n",
       "      <td>Gabrielse, C., Angelopoulos, V., Runov, a., Fr...</td>\n",
       "      <td>Gabrielse</td>\n",
       "      <td>https://doi.org/10.1029/2008JA013583</td>\n",
       "    </tr>\n",
       "    <tr>\n",
       "      <th>4</th>\n",
       "      <td>2009-05-01 00:00:00</td>\n",
       "      <td>THEMIS observation of a substorm event on 04:3...</td>\n",
       "      <td>Annales Geophysicae</td>\n",
       "      <td>NaN</td>\n",
       "      <td>Liu, J., Angelopoulos, V., Frey, H., McFadden,...</td>\n",
       "      <td>Liu</td>\n",
       "      <td>https://doi.org/10.5194/angeo-27-1831-2009</td>\n",
       "    </tr>\n",
       "    <tr>\n",
       "      <th>...</th>\n",
       "      <td>...</td>\n",
       "      <td>...</td>\n",
       "      <td>...</td>\n",
       "      <td>...</td>\n",
       "      <td>...</td>\n",
       "      <td>...</td>\n",
       "      <td>...</td>\n",
       "    </tr>\n",
       "    <tr>\n",
       "      <th>101</th>\n",
       "      <td>2024-09-26 00:00:00</td>\n",
       "      <td>Target and Science Visibility of the Solar-Ter...</td>\n",
       "      <td>Frontiers in Astronomy and Space Sciences</td>\n",
       "      <td>NaN</td>\n",
       "      <td>NaN</td>\n",
       "      <td>Murphy</td>\n",
       "      <td>https://doi.org/10.3389/fspas.2024.1394655</td>\n",
       "    </tr>\n",
       "    <tr>\n",
       "      <th>102</th>\n",
       "      <td>2024-11-27 00:00:00</td>\n",
       "      <td>Diamond Experiment In the MagnetOSphere (DEIMO...</td>\n",
       "      <td>Journal of Geophysical Research: Space Physics</td>\n",
       "      <td>NaN</td>\n",
       "      <td>Shonibare, T., Murphy, K. R., &amp; Pakhotin, I. P...</td>\n",
       "      <td>Shonibare</td>\n",
       "      <td>https://doi.org/10.1029/2024JA032728</td>\n",
       "    </tr>\n",
       "    <tr>\n",
       "      <th>103</th>\n",
       "      <td>2024-11-27 00:00:00</td>\n",
       "      <td>Derivations of the Total Radiation Belt Electr...</td>\n",
       "      <td>Journal of Geophysical Research: Space Physics</td>\n",
       "      <td>NaN</td>\n",
       "      <td>Pitzel, J. C., Cully, C. M., Ripoll, J.-F., Lo...</td>\n",
       "      <td>Pitzel</td>\n",
       "      <td>https://doi.org/10.1029/2024JA032940</td>\n",
       "    </tr>\n",
       "    <tr>\n",
       "      <th>104</th>\n",
       "      <td>2025-01-06 00:00:00</td>\n",
       "      <td>Understanding and Modeling the Dynamics of Sto...</td>\n",
       "      <td>Space Weather</td>\n",
       "      <td>NaN</td>\n",
       "      <td>Murphy, K., Halford, A. J., Liu, V., Klenzing,...</td>\n",
       "      <td>Murphy</td>\n",
       "      <td>https://doi.org/10.1029/2024SW003928</td>\n",
       "    </tr>\n",
       "    <tr>\n",
       "      <th>105</th>\n",
       "      <td>2025-03-15 00:00:00</td>\n",
       "      <td>Quantifying the Effects of Solar Wind Fluctuat...</td>\n",
       "      <td>Journal of Geophysical Research: Space Physics</td>\n",
       "      <td>NaN</td>\n",
       "      <td>Sibeck, D. G., &amp; Murphy, K. R. (2025). Quantif...</td>\n",
       "      <td>Sibeck</td>\n",
       "      <td>https://doi.org/10.1029/2025GL114954</td>\n",
       "    </tr>\n",
       "  </tbody>\n",
       "</table>\n",
       "<p>106 rows × 7 columns</p>\n",
       "</div>"
      ],
      "text/plain": [
       "                pub_date                                              title  \\\n",
       "0    2009-07-01 00:00:00  Ground-based Pc5 ULF wave power: Solar wind sp...   \n",
       "1    2008-12-01 00:00:00  The Upgraded CARISMA Magnetometer Array in the...   \n",
       "2    2008-07-01 00:00:00  Ionospheric localisation and expansion of long...   \n",
       "3    2009-12-01 00:00:00  Timing and localization of near-Earth tail and...   \n",
       "4    2009-05-01 00:00:00  THEMIS observation of a substorm event on 04:3...   \n",
       "..                   ...                                                ...   \n",
       "101  2024-09-26 00:00:00  Target and Science Visibility of the Solar-Ter...   \n",
       "102  2024-11-27 00:00:00  Diamond Experiment In the MagnetOSphere (DEIMO...   \n",
       "103  2024-11-27 00:00:00  Derivations of the Total Radiation Belt Electr...   \n",
       "104  2025-01-06 00:00:00  Understanding and Modeling the Dynamics of Sto...   \n",
       "105  2025-03-15 00:00:00  Quantifying the Effects of Solar Wind Fluctuat...   \n",
       "\n",
       "                                                 venue excerpt  \\\n",
       "0    Journal of Atmospheric and Solar-Terrestrial P...     NaN   \n",
       "1                                Space Science Reviews     NaN   \n",
       "2                         Geophysical Research Letters     NaN   \n",
       "3       Journal of Geophysical Research: Space Physics     NaN   \n",
       "4                                  Annales Geophysicae     NaN   \n",
       "..                                                 ...     ...   \n",
       "101          Frontiers in Astronomy and Space Sciences     NaN   \n",
       "102     Journal of Geophysical Research: Space Physics     NaN   \n",
       "103     Journal of Geophysical Research: Space Physics     NaN   \n",
       "104                                      Space Weather     NaN   \n",
       "105     Journal of Geophysical Research: Space Physics     NaN   \n",
       "\n",
       "                                              citation   url_slug  \\\n",
       "0    Pahud, D. M., Rae, I. J., Mann, I. R., Murphy,...      Pahud   \n",
       "1    Mann, I. R., Milling, D. K., Rae, I. J., Ozeke...       Mann   \n",
       "2    Milling, D. K., Rae, I. J., Mann, I. R., Murph...    Milling   \n",
       "3    Gabrielse, C., Angelopoulos, V., Runov, a., Fr...  Gabrielse   \n",
       "4    Liu, J., Angelopoulos, V., Frey, H., McFadden,...        Liu   \n",
       "..                                                 ...        ...   \n",
       "101                                                NaN     Murphy   \n",
       "102  Shonibare, T., Murphy, K. R., & Pakhotin, I. P...  Shonibare   \n",
       "103  Pitzel, J. C., Cully, C. M., Ripoll, J.-F., Lo...     Pitzel   \n",
       "104  Murphy, K., Halford, A. J., Liu, V., Klenzing,...     Murphy   \n",
       "105  Sibeck, D. G., & Murphy, K. R. (2025). Quantif...     Sibeck   \n",
       "\n",
       "                                       paper_url  \n",
       "0    https://doi.org/10.1016/j.jastp.2008.12.004  \n",
       "1      https://doi.org/10.1007/s11214-008-9457-6  \n",
       "2           https://doi.org/10.1029/2008GL033672  \n",
       "3           https://doi.org/10.1029/2008JA013583  \n",
       "4     https://doi.org/10.5194/angeo-27-1831-2009  \n",
       "..                                           ...  \n",
       "101   https://doi.org/10.3389/fspas.2024.1394655  \n",
       "102         https://doi.org/10.1029/2024JA032728  \n",
       "103         https://doi.org/10.1029/2024JA032940  \n",
       "104         https://doi.org/10.1029/2024SW003928  \n",
       "105         https://doi.org/10.1029/2025GL114954  \n",
       "\n",
       "[106 rows x 7 columns]"
      ]
     },
     "execution_count": 2,
     "metadata": {},
     "output_type": "execute_result"
    }
   ],
   "source": [
    "os.chdir(\"../files\")\n",
    "publications = pd.read_excel(\"Publications.xlsx\", dtype=str)\n",
    "publications\n"
   ]
  },
  {
   "cell_type": "code",
   "execution_count": 15,
   "metadata": {},
   "outputs": [
    {
     "ename": "AttributeError",
     "evalue": "'float' object has no attribute 'type'",
     "output_type": "error",
     "traceback": [
      "\u001b[1;31m---------------------------------------------------------------------------\u001b[0m",
      "\u001b[1;31mAttributeError\u001b[0m                            Traceback (most recent call last)",
      "Cell \u001b[1;32mIn[15], line 1\u001b[0m\n\u001b[1;32m----> 1\u001b[0m \u001b[43mpublications\u001b[49m\u001b[38;5;241;43m.\u001b[39;49m\u001b[43miloc\u001b[49m\u001b[43m[\u001b[49m\u001b[38;5;241;43m101\u001b[39;49m\u001b[43m]\u001b[49m\u001b[43m[\u001b[49m\u001b[38;5;124;43m'\u001b[39;49m\u001b[38;5;124;43mcitation\u001b[39;49m\u001b[38;5;124;43m'\u001b[39;49m\u001b[43m]\u001b[49m\u001b[38;5;241;43m.\u001b[39;49m\u001b[43mtype\u001b[49m\n",
      "\u001b[1;31mAttributeError\u001b[0m: 'float' object has no attribute 'type'"
     ]
    }
   ],
   "source": [
    "publications.iloc[101]['citation'].type"
   ]
  },
  {
   "cell_type": "markdown",
   "metadata": {},
   "source": [
    "## Escape special characters\n",
    "\n",
    "YAML is very picky about how it takes a valid string, so we are replacing single and double quotes (and ampersands) with their HTML encoded equivilents. This makes them look not so readable in raw format, but they are parsed and rendered nicely."
   ]
  },
  {
   "cell_type": "code",
   "execution_count": 3,
   "metadata": {},
   "outputs": [],
   "source": [
    "html_escape_table = {\n",
    "    \"&\": \"&amp;\",\n",
    "    '\"': \"&quot;\",\n",
    "    \"'\": \"&apos;\"\n",
    "    }\n",
    "\n",
    "def html_escape(text):\n",
    "    \"\"\"Produce entities within text.\"\"\"\n",
    "    return \"\".join(html_escape_table.get(c,c) for c in text)"
   ]
  },
  {
   "cell_type": "markdown",
   "metadata": {},
   "source": [
    "## Creating the markdown files\n",
    "\n",
    "This is where the heavy lifting is done. This loops through all the rows in the TSV dataframe, then starts to concatentate a big string (```md```) that contains the markdown for each type. It does the YAML metadata first, then does the description for the individual page."
   ]
  },
  {
   "cell_type": "code",
   "execution_count": 19,
   "metadata": {},
   "outputs": [],
   "source": [
    "os.chdir(\"../_publications\")\n",
    "for row, item in publications.iterrows():\n",
    "    \n",
    "    md_filename = str(item.pub_date[0:10]) + \"-\" + item.url_slug + \".md\"\n",
    "    html_filename = str(item.pub_date[0:10]) + \"-\" + item.url_slug\n",
    "    year = item.pub_date[:4]\n",
    "    \n",
    "    ## YAML variables\n",
    "    \n",
    "    md = \"---\\ntitle: \\\"\"   + item.title + '\"\\n'\n",
    "    \n",
    "    md += \"\"\"collection: publications\"\"\"\n",
    "    \n",
    "    md += \"\"\"\\npermalink: /publication/\"\"\" + html_filename\n",
    "    \n",
    "    # add an empty excerpt so that the html generator does't\n",
    "    # grab text from outside the file header\n",
    "    if len(str(item.excerpt)) > 5:\n",
    "        md += \"\\nexcerpt: '\" + html_escape(item.excerpt) + \"'\"\n",
    "    else:\n",
    "        md += \"\\nexcerpt: ' '\"\n",
    "    md += \"\\ndate: \" + str(item.pub_date[0:10]) \n",
    "    \n",
    "    md += \"\\nvenue: '\" + html_escape(item.venue) + \"'\"\n",
    "    \n",
    "    if len(str(item.paper_url)) > 5:\n",
    "        md += \"\\npaperurl: '\" + item.paper_url + \"'\"\n",
    "    \n",
    "    if len(str(item.citation)) >5:\n",
    "        md += \"\\ncitation: '\" + html_escape(item.citation) + \"'\"\n",
    "    else:\n",
    "        md += \"\\ncitation: ' '\"\n",
    "    md += \"\\n---\"\n",
    "    \n",
    "    ## Markdown description for individual page\n",
    "        \n",
    "    if len(str(item.excerpt)) > 5:\n",
    "        md += \"\\n\" + html_escape(item.excerpt) + \"\\n\"\n",
    "    \n",
    "    #if len(str(item.paper_url)) > 5:\n",
    "        #md += \"\\n[Download paper here](\" + item.paper_url + \")\\n\" \n",
    "        \n",
    "    #md += \"\\nRecommended citation: \" + item.citation\n",
    "    \n",
    "    md_filename = os.path.basename(md_filename)\n",
    "       \n",
    "    with open(md_filename, 'w', encoding=\"utf-8\") as f:\n",
    "        f.write(md)"
   ]
  },
  {
   "cell_type": "markdown",
   "metadata": {},
   "source": [
    "These files are in the publications directory, one directory below where we're working from."
   ]
  },
  {
   "cell_type": "code",
   "execution_count": 7,
   "metadata": {},
   "outputs": [
    {
     "name": "stdout",
     "output_type": "stream",
     "text": [
      "---\r\n",
      "title: \"Paper Title Number 1\"\r\n",
      "collection: publications\r\n",
      "permalink: /publication/2009-10-01-paper-title-number-1\r\n",
      "excerpt: 'This paper is about the number 1. The number 2 is left for future work.'\r\n",
      "date: 2009-10-01\r\n",
      "venue: 'Journal 1'\r\n",
      "paperurl: 'http://academicpages.github.io/files/paper1.pdf'\r\n",
      "citation: 'Your Name, You. (2009). &quot;Paper Title Number 1.&quot; <i>Journal 1</i>. 1(1).'\r\n",
      "---\r\n",
      "This paper is about the number 1. The number 2 is left for future work.\r\n",
      "\r\n",
      "[Download paper here](http://academicpages.github.io/files/paper1.pdf)\r\n",
      "\r\n",
      "Recommended citation: Your Name, You. (2009). \"Paper Title Number 1.\" <i>Journal 1</i>. 1(1)."
     ]
    }
   ],
   "source": [
    "!cat ../_publications/2009-10-01-paper-title-number-1.md"
   ]
  },
  {
   "cell_type": "code",
   "execution_count": null,
   "metadata": {
    "collapsed": true
   },
   "outputs": [],
   "source": []
  }
 ],
 "metadata": {
  "kernelspec": {
   "display_name": "satdrag",
   "language": "python",
   "name": "python3"
  },
  "language_info": {
   "codemirror_mode": {
    "name": "ipython",
    "version": 3
   },
   "file_extension": ".py",
   "mimetype": "text/x-python",
   "name": "python",
   "nbconvert_exporter": "python",
   "pygments_lexer": "ipython3",
   "version": "3.10.16"
  }
 },
 "nbformat": 4,
 "nbformat_minor": 1
}
